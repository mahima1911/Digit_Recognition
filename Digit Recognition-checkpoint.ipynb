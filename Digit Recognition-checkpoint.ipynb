{
 "cells": [
  {
   "cell_type": "markdown",
   "metadata": {},
   "source": [
    "# DIGIT RECOGNNITION"
   ]
  },
  {
   "cell_type": "code",
   "execution_count": null,
   "metadata": {
    "scrolled": true
   },
   "outputs": [],
   "source": []
  },
  {
   "cell_type": "code",
   "execution_count": 7,
   "metadata": {},
   "outputs": [],
   "source": [
    "import numpy as np\n",
    "import os \n",
    "# Step 1: We'll download the database of images from MNIST website - this is maintained\n",
    "# by a famous Neural network researcher named Yann Lecun\n",
    "def load_dataset():\n",
    "    def download(filename, source='http://yann.lecun.com/exdb/mnist/'):\n",
    "        print (\"Downloading \",filename)\n",
    "        import urllib.request\n",
    "        urllib.request.urlretrieve(source+filename,filename)\n",
    "    # This will download the specified file from Yann Lecun's website and store it \n",
    "    # on our local disk\n",
    "    \n",
    "    import gzip\n",
    "    \n",
    "    def load_mnist_images(filename):\n",
    "        if not os.path.exists(filename):\n",
    "            download(filename)\n",
    "        # Checks if the specified file is already there on our local disk\n",
    "        # if not it will download the file \n",
    "        with gzip.open(filename,'rb') as f:\n",
    "            # Open the zip file of images \n",
    "            data=np.frombuffer(f.read(), np.uint8, offset=16)\n",
    "            # This is some boilerplate to extract data from the zip file\n",
    "            # This data has 2 issues : its in the form of a 1 d array\n",
    "            # We have to take this array and convert it into images \n",
    "            # Each image has 28x28 pixels , its a monochrome image ie only 1 channel (if\n",
    "            # it were full-color it would have 3/4 channels R,G,B etc)\n",
    "            \n",
    "            # data is currently a numpy array which we we want to reshape into \n",
    "            # an array of 28x28 images \n",
    "            data=data.reshape(-1,1,28,28)\n",
    "            # The first dimension is the number of images , by making this -1\n",
    "            # The number of images will be inferred from the value of the other dimensions\n",
    "            # and the length of the input array\n",
    "            \n",
    "            # The second dimension is the number of channels - here this is 1\n",
    "            \n",
    "            # The third and fourth dimensions are the size of the image 28x28\n",
    "            \n",
    "            # its in the form of bytes \n",
    "            return data/np.float32(256)\n",
    "        # This will convert the byte value to a float32 in the range [0,1]\n",
    "        \n",
    "    def load_mnist_labels(filename):\n",
    "        if not os.path.exists(filename):\n",
    "            download(filename)\n",
    "                # Read the labels which are in a binary file again \n",
    "        with gzip.open(filename,'rb') as f:\n",
    "            data = np.frombuffer(f.read(),np.uint8,offset=8)\n",
    "                    # This gives a numpy array of integers, the digit value corresponding \n",
    "                    # to the images we got earlier \n",
    "        return data\n",
    "    # We can now download and read the training and test data sets - both the images \n",
    "    # and their labels \n",
    "    \n",
    "    X_train = load_mnist_images('train-images-idx3-ubyte.gz')\n",
    "    y_train = load_mnist_labels('train-labels-idx1-ubyte.gz')\n",
    "    X_test = load_mnist_images('t10k-images-idx3-ubyte.gz')\n",
    "    y_test = load_mnist_labels('t10k-labels-idx1-ubyte.gz')\n",
    "    \n",
    "    return X_train, y_train, X_test, y_test\n",
    "\n",
    "\n",
    "# In[2]:\n",
    "\n",
    "X_train, y_train, X_test, y_test = load_dataset()\n"
   ]
  },
  {
   "cell_type": "code",
   "execution_count": 8,
   "metadata": {},
   "outputs": [
    {
     "name": "stderr",
     "output_type": "stream",
     "text": [
      "C:\\Users\\Mahima\\anaconda3\\lib\\site-packages\\ipykernel_launcher.py:5: MatplotlibDeprecationWarning: Passing the block parameter of show() positionally is deprecated since Matplotlib 3.1; the parameter will become keyword-only in 3.3.\n",
      "  \"\"\"\n"
     ]
    }
   ],
   "source": [
    "\n",
    "\n",
    "import matplotlib\n",
    "matplotlib.use('TkAgg')\n",
    "\n",
    "import matplotlib.pyplot as plt\n",
    "plt.show(plt.imshow(X_train[1][0]))"
   ]
  },
  {
   "cell_type": "code",
   "execution_count": 9,
   "metadata": {},
   "outputs": [],
   "source": [
    "import lasagne\n",
    "import theano\n",
    "import theano.tensor as T\n",
    "\n",
    "\n",
    "\n",
    "def build_NN(input_var=None):\n",
    "    l_in = lasagne.layers.InputLayer(shape=(None,1,28,28), input_var=input_var)\n",
    "    \n",
    "    l_in_drop = lasagne.layers.DropoutLayer(l_in, p=0.2)\n",
    "    \n",
    "    l_hid1=lasagne.layers.DenseLayer(l_in_drop,num_units=800,nonlinearity=lasagne.nonlinearities.rectify,W=lasagne.init.GlorotUniform())\n",
    "    \n",
    "    l_hid1_drop=lasagne.layers.DropoutLayer(l_hid1,p=0.5)\n",
    "    \n",
    "    l_hid2=lasagne.layers.DenseLayer(l_hid1_drop,num_units=800,nonlinearity=lasagne.nonlinearities.rectify,W=lasagne.init.GlorotUniform())\n",
    "    \n",
    "    l_hid2_drop=lasagne.layers.DropoutLayer(l_hid2,p=0.5)\n",
    "    \n",
    "    #output layer\n",
    "    \n",
    "    l_out = lasagne.layers.DenseLayer(l_hid2_drop, num_units=10, nonlinearity=lasagne.nonlinearities.softmax)\n",
    "    \n",
    "    \n",
    "    return l_out\n",
    "    \n",
    "\n",
    "    \n",
    "input_var = T.tensor4('inputs') #An empty 4 dimensional array\n",
    "target_var =T.ivector('targets') #An empty 1 dimensionl integer array to represent the labels\n",
    "\n",
    "network=build_NN(input_var)\n",
    "\n",
    "prediction = lasagne.layers.get_output(network)\n",
    "loss = lasagne.objectives.categorical_crossentropy(prediction,target_var)\n",
    "\n",
    "loss = loss.mean()\n",
    "\n",
    "params = lasagne.layers.get_all_params(network, trainable=True)\n",
    "updates = lasagne.updates.nesterov_momentum(loss, params, learning_rate=0.01, momentum=0.9)\n",
    "\n",
    "train_fn = theano.function([input_var, target_var], loss, updates=updates)\n",
    "    "
   ]
  },
  {
   "cell_type": "code",
   "execution_count": 11,
   "metadata": {},
   "outputs": [
    {
     "name": "stdout",
     "output_type": "stream",
     "text": [
      "Current step is0\n",
      "Current step is1\n",
      "Current step is2\n",
      "Current step is3\n",
      "Current step is4\n",
      "Current step is5\n",
      "Current step is6\n",
      "Current step is7\n",
      "Current step is8\n",
      "Current step is9\n"
     ]
    }
   ],
   "source": [
    "num_training_steps = 10\n",
    "\n",
    "for step in range(num_training_steps):\n",
    "    train_err=train_fn(X_train, y_train)\n",
    "    print(\"Current step is\"+ str(step))"
   ]
  },
  {
   "cell_type": "code",
   "execution_count": 12,
   "metadata": {},
   "outputs": [
    {
     "data": {
      "text/plain": [
       "array([[0.09030878, 0.06858369, 0.10201753, 0.1655319 , 0.07774986,\n",
       "        0.07323589, 0.11866109, 0.16443439, 0.05329987, 0.08617701]])"
      ]
     },
     "execution_count": 12,
     "metadata": {},
     "output_type": "execute_result"
    }
   ],
   "source": [
    "test_prediction = lasagne.layers.get_output(network)\n",
    "val_fn = theano.function([input_var], test_prediction)\n",
    "val_fn([X_test[0]])\n",
    "\n",
    "\n",
    "#digit predicted is 7"
   ]
  },
  {
   "cell_type": "code",
   "execution_count": 13,
   "metadata": {},
   "outputs": [
    {
     "data": {
      "text/plain": [
       "7"
      ]
     },
     "execution_count": 13,
     "metadata": {},
     "output_type": "execute_result"
    }
   ],
   "source": [
    "y_test[0]"
   ]
  },
  {
   "cell_type": "code",
   "execution_count": 16,
   "metadata": {},
   "outputs": [
    {
     "data": {
      "text/plain": [
       "array(0.5203)"
      ]
     },
     "execution_count": 16,
     "metadata": {},
     "output_type": "execute_result"
    }
   ],
   "source": [
    "test_prediction = lasagne.layers.get_output(network, deterministic=True)\n",
    "test_acc = T.mean(T.eq(T.argmax(test_prediction, axis=1),target_var),dtype=theano.config.floatX)\n",
    "\n",
    "acc_fn = theano.function([input_var,target_var], test_acc)\n",
    "\n",
    "acc_fn(X_test,y_test)\n"
   ]
  },
  {
   "cell_type": "code",
   "execution_count": null,
   "metadata": {},
   "outputs": [],
   "source": []
  }
 ],
 "metadata": {
  "kernelspec": {
   "display_name": "Python 3",
   "language": "python",
   "name": "python3"
  },
  "language_info": {
   "codemirror_mode": {
    "name": "ipython",
    "version": 3
   },
   "file_extension": ".py",
   "mimetype": "text/x-python",
   "name": "python",
   "nbconvert_exporter": "python",
   "pygments_lexer": "ipython3",
   "version": "3.7.6"
  }
 },
 "nbformat": 4,
 "nbformat_minor": 4
}
